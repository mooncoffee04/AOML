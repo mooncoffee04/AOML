{
 "cells": [
  {
   "cell_type": "code",
   "execution_count": 42,
   "metadata": {},
   "outputs": [],
   "source": [
    "import pandas as pd\n",
    "import numpy as np\n",
    "from matplotlib import pyplot as plt"
   ]
  },
  {
   "cell_type": "code",
   "execution_count": 43,
   "metadata": {},
   "outputs": [
    {
     "data": {
      "text/html": [
       "<div>\n",
       "<style scoped>\n",
       "    .dataframe tbody tr th:only-of-type {\n",
       "        vertical-align: middle;\n",
       "    }\n",
       "\n",
       "    .dataframe tbody tr th {\n",
       "        vertical-align: top;\n",
       "    }\n",
       "\n",
       "    .dataframe thead th {\n",
       "        text-align: right;\n",
       "    }\n",
       "</style>\n",
       "<table border=\"1\" class=\"dataframe\">\n",
       "  <thead>\n",
       "    <tr style=\"text-align: right;\">\n",
       "      <th></th>\n",
       "      <th>Pregnancies</th>\n",
       "      <th>Glucose</th>\n",
       "      <th>BloodPressure</th>\n",
       "      <th>SkinThickness</th>\n",
       "      <th>Insulin</th>\n",
       "      <th>BMI</th>\n",
       "      <th>DiabetesPedigreeFunction</th>\n",
       "      <th>Age</th>\n",
       "      <th>Outcome</th>\n",
       "    </tr>\n",
       "  </thead>\n",
       "  <tbody>\n",
       "    <tr>\n",
       "      <th>0</th>\n",
       "      <td>6</td>\n",
       "      <td>148</td>\n",
       "      <td>72</td>\n",
       "      <td>35</td>\n",
       "      <td>0</td>\n",
       "      <td>33.6</td>\n",
       "      <td>0.627</td>\n",
       "      <td>50</td>\n",
       "      <td>1</td>\n",
       "    </tr>\n",
       "    <tr>\n",
       "      <th>1</th>\n",
       "      <td>1</td>\n",
       "      <td>85</td>\n",
       "      <td>66</td>\n",
       "      <td>29</td>\n",
       "      <td>0</td>\n",
       "      <td>26.6</td>\n",
       "      <td>0.351</td>\n",
       "      <td>31</td>\n",
       "      <td>0</td>\n",
       "    </tr>\n",
       "  </tbody>\n",
       "</table>\n",
       "</div>"
      ],
      "text/plain": [
       "   Pregnancies  Glucose  BloodPressure  SkinThickness  Insulin   BMI  \\\n",
       "0            6      148             72             35        0  33.6   \n",
       "1            1       85             66             29        0  26.6   \n",
       "\n",
       "   DiabetesPedigreeFunction  Age  Outcome  \n",
       "0                     0.627   50        1  \n",
       "1                     0.351   31        0  "
      ]
     },
     "execution_count": 43,
     "metadata": {},
     "output_type": "execute_result"
    }
   ],
   "source": [
    "df = pd.read_csv('diabetes.csv')\n",
    "df.head(2)"
   ]
  },
  {
   "cell_type": "code",
   "execution_count": 44,
   "metadata": {},
   "outputs": [
    {
     "data": {
      "text/plain": [
       "Pregnancies                 0\n",
       "Glucose                     0\n",
       "BloodPressure               0\n",
       "SkinThickness               0\n",
       "Insulin                     0\n",
       "BMI                         0\n",
       "DiabetesPedigreeFunction    0\n",
       "Age                         0\n",
       "Outcome                     0\n",
       "dtype: int64"
      ]
     },
     "execution_count": 44,
     "metadata": {},
     "output_type": "execute_result"
    }
   ],
   "source": [
    "df.isna().sum()"
   ]
  },
  {
   "cell_type": "markdown",
   "metadata": {},
   "source": [
    "##### 1. Create a column called “BMI_category” using the “BMI” column and the general medical guidelines for BMI types."
   ]
  },
  {
   "cell_type": "code",
   "execution_count": 45,
   "metadata": {},
   "outputs": [],
   "source": [
    "# under 18.5 – This is described as underweight. \n",
    "# between 18.5 and 24.9 – This is described as the ‘healthy range’.\n",
    "# between 25 and 29.9 – This is described as overweight\n",
    "# between 30 and 39.9 – This is described as obesity\n",
    "# 40 or over – This is described as severe obesity"
   ]
  },
  {
   "cell_type": "code",
   "execution_count": 46,
   "metadata": {},
   "outputs": [],
   "source": [
    "category = lambda x: 'underweight' if x >= 0 and x < 18.5 else 'healthy' if  x >=18.5 and x < 24.9 else 'overweight' if x >= 25 and x < 29.9 else 'obesity' if x >= 30 and x < 39.9 else 'severe obesity' if x > 40 else None\n",
    "df['BMI_category'] = df['BMI'].apply(category)"
   ]
  },
  {
   "cell_type": "code",
   "execution_count": 47,
   "metadata": {},
   "outputs": [
    {
     "data": {
      "text/html": [
       "<div>\n",
       "<style scoped>\n",
       "    .dataframe tbody tr th:only-of-type {\n",
       "        vertical-align: middle;\n",
       "    }\n",
       "\n",
       "    .dataframe tbody tr th {\n",
       "        vertical-align: top;\n",
       "    }\n",
       "\n",
       "    .dataframe thead th {\n",
       "        text-align: right;\n",
       "    }\n",
       "</style>\n",
       "<table border=\"1\" class=\"dataframe\">\n",
       "  <thead>\n",
       "    <tr style=\"text-align: right;\">\n",
       "      <th></th>\n",
       "      <th>Pregnancies</th>\n",
       "      <th>Glucose</th>\n",
       "      <th>BloodPressure</th>\n",
       "      <th>SkinThickness</th>\n",
       "      <th>Insulin</th>\n",
       "      <th>BMI</th>\n",
       "      <th>DiabetesPedigreeFunction</th>\n",
       "      <th>Age</th>\n",
       "      <th>Outcome</th>\n",
       "      <th>BMI_category</th>\n",
       "    </tr>\n",
       "  </thead>\n",
       "  <tbody>\n",
       "    <tr>\n",
       "      <th>0</th>\n",
       "      <td>6</td>\n",
       "      <td>148</td>\n",
       "      <td>72</td>\n",
       "      <td>35</td>\n",
       "      <td>0</td>\n",
       "      <td>33.6</td>\n",
       "      <td>0.627</td>\n",
       "      <td>50</td>\n",
       "      <td>1</td>\n",
       "      <td>obesity</td>\n",
       "    </tr>\n",
       "    <tr>\n",
       "      <th>1</th>\n",
       "      <td>1</td>\n",
       "      <td>85</td>\n",
       "      <td>66</td>\n",
       "      <td>29</td>\n",
       "      <td>0</td>\n",
       "      <td>26.6</td>\n",
       "      <td>0.351</td>\n",
       "      <td>31</td>\n",
       "      <td>0</td>\n",
       "      <td>overweight</td>\n",
       "    </tr>\n",
       "  </tbody>\n",
       "</table>\n",
       "</div>"
      ],
      "text/plain": [
       "   Pregnancies  Glucose  BloodPressure  SkinThickness  Insulin   BMI  \\\n",
       "0            6      148             72             35        0  33.6   \n",
       "1            1       85             66             29        0  26.6   \n",
       "\n",
       "   DiabetesPedigreeFunction  Age  Outcome BMI_category  \n",
       "0                     0.627   50        1      obesity  \n",
       "1                     0.351   31        0   overweight  "
      ]
     },
     "execution_count": 47,
     "metadata": {},
     "output_type": "execute_result"
    }
   ],
   "source": [
    "df.head(2)"
   ]
  },
  {
   "cell_type": "markdown",
   "metadata": {},
   "source": [
    "##### 2. Split the data into 2 parts: train and val. Use 20% of the data for val."
   ]
  },
  {
   "cell_type": "code",
   "execution_count": 48,
   "metadata": {},
   "outputs": [],
   "source": [
    "from sklearn.model_selection import train_test_split\n",
    "X = df.drop('Outcome', axis = 1)\n",
    "y = df['Outcome']\n",
    "xtrain, xval, ytrain, yval = train_test_split(X,y, test_size=0.2, random_state=42, stratify=y)"
   ]
  },
  {
   "cell_type": "markdown",
   "metadata": {},
   "source": [
    "##### 3. Apply Standard Scaler on the numeric features. Fit and transform on train and only transform on val."
   ]
  },
  {
   "cell_type": "code",
   "execution_count": 49,
   "metadata": {},
   "outputs": [
    {
     "data": {
      "text/plain": [
       "Index(['Pregnancies', 'Glucose', 'BloodPressure', 'SkinThickness', 'Insulin',\n",
       "       'BMI', 'DiabetesPedigreeFunction', 'Age', 'BMI_category'],\n",
       "      dtype='object')"
      ]
     },
     "execution_count": 49,
     "metadata": {},
     "output_type": "execute_result"
    }
   ],
   "source": [
    "X.columns"
   ]
  },
  {
   "cell_type": "code",
   "execution_count": 50,
   "metadata": {},
   "outputs": [],
   "source": [
    "from sklearn.preprocessing import StandardScaler\n",
    "sc = StandardScaler()\n",
    "num_cols = ['Pregnancies', 'Glucose', 'BloodPressure', 'SkinThickness', 'Insulin', 'BMI',\n",
    "            'DiabetesPedigreeFunction', 'Age']\n",
    "\n",
    "xtrain[num_cols] = sc.fit_transform(xtrain[num_cols])\n",
    "xval[num_cols] = sc.transform(xval[num_cols])"
   ]
  },
  {
   "cell_type": "markdown",
   "metadata": {},
   "source": [
    "##### 4. Apply One-hot Encoding to the categorical features. Fit and transform on train and only transform on val"
   ]
  },
  {
   "cell_type": "code",
   "execution_count": 51,
   "metadata": {},
   "outputs": [
    {
     "name": "stderr",
     "output_type": "stream",
     "text": [
      "c:\\Users\\laava\\anaconda3\\Lib\\site-packages\\sklearn\\preprocessing\\_encoders.py:972: FutureWarning: `sparse` was renamed to `sparse_output` in version 1.2 and will be removed in 1.4. `sparse_output` is ignored unless you leave `sparse` to its default value.\n",
      "  warnings.warn(\n"
     ]
    }
   ],
   "source": [
    "from sklearn.preprocessing import OneHotEncoder\n",
    "\n",
    "ohe = OneHotEncoder(sparse=False)\n",
    "cat_cols = ['BMI_category']\n",
    "\n",
    "xtrain_encoded = ohe.fit_transform(xtrain[cat_cols])\n",
    "xtrain = xtrain.drop(cat_cols, axis=1)\n",
    "xtrain[ohe.get_feature_names_out(cat_cols)] = xtrain_encoded\n",
    "\n",
    "xval_encoded = ohe.transform(xval[cat_cols])\n",
    "xval = xval.drop(cat_cols, axis=1)\n",
    "xval[ohe.get_feature_names_out(cat_cols)] = xval_encoded"
   ]
  },
  {
   "cell_type": "markdown",
   "metadata": {},
   "source": [
    "##### 5. Build a KNN classifier. Experiment with different values of k (3, 5, 7) and select the value with the highest f1 score"
   ]
  },
  {
   "cell_type": "code",
   "execution_count": 52,
   "metadata": {},
   "outputs": [
    {
     "name": "stdout",
     "output_type": "stream",
     "text": [
      "k=3, f1_score=0.5420560747663552\n",
      "k=5, f1_score=0.6078431372549019\n",
      "k=7, f1_score=0.6153846153846153\n",
      "Best k: 7 with highest f1 score: 0.6153846153846153\n"
     ]
    }
   ],
   "source": [
    "from sklearn.neighbors import KNeighborsClassifier\n",
    "from sklearn.metrics import f1_score\n",
    "\n",
    "k_values = [3, 5, 7]\n",
    "best_k = 0\n",
    "highest_f1 = 0\n",
    "\n",
    "for k in k_values:\n",
    "    knn = KNeighborsClassifier(n_neighbors=k)\n",
    "    knn.fit(xtrain, ytrain)\n",
    "    yval_pred = knn.predict(xval)\n",
    "    f1 = f1_score(yval, yval_pred)\n",
    "    print(f'k={k}, f1_score={f1}')\n",
    "    if f1 > highest_f1:\n",
    "        highest_f1 = f1\n",
    "        best_k = k\n",
    "\n",
    "print(f'Best k: {best_k} with highest f1 score: {highest_f1}')"
   ]
  },
  {
   "cell_type": "markdown",
   "metadata": {},
   "source": [
    "##### 6. Build a Decision Tree classifier. Experiment with different values of max_depth (3, 5, 7) and choose the value with the highest f1 score."
   ]
  },
  {
   "cell_type": "code",
   "execution_count": 53,
   "metadata": {},
   "outputs": [
    {
     "name": "stdout",
     "output_type": "stream",
     "text": [
      "max_depth=3, f1_score=0.37333333333333335\n",
      "max_depth=5, f1_score=0.7037037037037037\n",
      "max_depth=7, f1_score=0.5909090909090909\n",
      "Best max_depth: 5 with highest f1 score: 0.7037037037037037\n"
     ]
    }
   ],
   "source": [
    "from sklearn.tree import DecisionTreeClassifier\n",
    "\n",
    "max_depth_values = [3, 5, 7]\n",
    "best_depth = 0\n",
    "highest_f1_dt = 0\n",
    "\n",
    "for depth in max_depth_values:\n",
    "    dt = DecisionTreeClassifier(max_depth=depth, random_state=42)\n",
    "    dt.fit(xtrain, ytrain)\n",
    "    yval_pred_dt = dt.predict(xval)\n",
    "    f1_dt = f1_score(yval, yval_pred_dt)\n",
    "    print(f'max_depth={depth}, f1_score={f1_dt}')\n",
    "    if f1_dt > highest_f1_dt:\n",
    "        highest_f1_dt = f1_dt\n",
    "        best_depth = depth\n",
    "\n",
    "print(f'Best max_depth: {best_depth} with highest f1 score: {highest_f1_dt}')"
   ]
  },
  {
   "cell_type": "code",
   "execution_count": 54,
   "metadata": {},
   "outputs": [
    {
     "data": {
      "text/plain": [
       "['best_model.pkl']"
      ]
     },
     "execution_count": 54,
     "metadata": {},
     "output_type": "execute_result"
    }
   ],
   "source": [
    "import joblib\n",
    "\n",
    "# Save the StandardScaler\n",
    "joblib.dump(sc, 'standard_scaler.pkl')\n",
    "\n",
    "# Save the OneHotEncoder\n",
    "joblib.dump(ohe, 'one_hot_encoder.pkl')\n",
    "\n",
    "# Save the best model (Decision Tree in this case)\n",
    "best_model = DecisionTreeClassifier(max_depth=best_depth, random_state=42)\n",
    "best_model.fit(xtrain, ytrain)\n",
    "joblib.dump(best_model, 'best_model.pkl')"
   ]
  },
  {
   "cell_type": "code",
   "execution_count": 55,
   "metadata": {},
   "outputs": [
    {
     "name": "stdout",
     "output_type": "stream",
     "text": [
      "Sample 1:\n",
      "Features: [ 0.96054099  1.20788789 -0.29601471 -1.31138021 -0.73076636 -0.58221684\n",
      " -0.55579092  0.56103382  0.          0.          1.          0.\n",
      "  0.          0.        ]\n",
      "Actual Outcome: 0\n",
      "Predicted Outcome: 1\n",
      "\n",
      "Sample 2:\n",
      "Features: [ 1.86648903 -1.67775979  1.98813468  0.14031779 -0.27558248  0.44897876\n",
      " -0.58306107  1.15306018  0.          1.          0.          0.\n",
      "  0.          0.        ]\n",
      "Actual Outcome: 0\n",
      "Predicted Outcome: 0\n",
      "\n",
      "Sample 3:\n",
      "Features: [-0.5493724   0.03460257  0.3565994   0.392787    1.12712704  0.499902\n",
      "  0.01688223 -0.6230189   0.          1.          0.          0.\n",
      "  0.          0.        ]\n",
      "Actual Outcome: 0\n",
      "Predicted Outcome: 0\n",
      "\n",
      "Sample 4:\n",
      "Features: [ 0.96054099 -0.21908074 -0.29601471 -1.31138021 -0.73076636 -0.58221684\n",
      "  0.77135637  0.05358266  0.          0.          1.          0.\n",
      "  0.          0.        ]\n",
      "Actual Outcome: 1\n",
      "Predicted Outcome: 1\n",
      "\n",
      "Sample 5:\n",
      "Features: [-0.5493724  -1.4874973  -3.77662329 -1.31138021 -0.73076636 -4.07045874\n",
      " -1.13755411 -0.96131967  0.          0.          0.          0.\n",
      "  1.          0.        ]\n",
      "Actual Outcome: 0\n",
      "Predicted Outcome: 0\n",
      "\n"
     ]
    }
   ],
   "source": [
    "# Select 5 samples from the validation set\n",
    "xval_sample = xval.iloc[:5]\n",
    "yval_sample = yval.iloc[:5]\n",
    "\n",
    "# Make predictions using the best model\n",
    "yval_sample_pred = best_model.predict(xval_sample)\n",
    "\n",
    "# Display the results\n",
    "for i in range(5):\n",
    "    print(f\"Sample {i+1}:\")\n",
    "    print(f\"Features: {xval_sample.iloc[i].values}\")\n",
    "    print(f\"Actual Outcome: {yval_sample.iloc[i]}\")\n",
    "    print(f\"Predicted Outcome: {yval_sample_pred[i]}\")\n",
    "    print()"
   ]
  }
 ],
 "metadata": {
  "kernelspec": {
   "display_name": "base",
   "language": "python",
   "name": "python3"
  },
  "language_info": {
   "codemirror_mode": {
    "name": "ipython",
    "version": 3
   },
   "file_extension": ".py",
   "mimetype": "text/x-python",
   "name": "python",
   "nbconvert_exporter": "python",
   "pygments_lexer": "ipython3",
   "version": "3.11.5"
  }
 },
 "nbformat": 4,
 "nbformat_minor": 2
}
