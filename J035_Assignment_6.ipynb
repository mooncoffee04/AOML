{
 "cells": [
  {
   "cell_type": "markdown",
   "metadata": {},
   "source": [
    "Train SVM model with linear kernel. Find the best value for C.\n",
    "\n",
    "Train SVM with polynomial kernel. Use GridSearch to find the best value for the polynomial degree and C.\n",
    "\n",
    "Train SVM with RBF kernel and find the best values for gamma and C."
   ]
  },
  {
   "cell_type": "code",
   "execution_count": 1,
   "metadata": {},
   "outputs": [],
   "source": [
    "import numpy as np\n",
    "import pandas as pd"
   ]
  },
  {
   "cell_type": "code",
   "execution_count": 3,
   "metadata": {},
   "outputs": [],
   "source": [
    "df_train = pd.read_csv(r'C:\\Users\\laava\\Desktop\\sem 6\\AOML\\fashion-mnist_train.csv')\n",
    "df_test = pd.read_csv(r'C:\\Users\\laava\\Desktop\\sem 6\\AOML\\fashion-mnist_test.csv')"
   ]
  },
  {
   "cell_type": "code",
   "execution_count": null,
   "metadata": {},
   "outputs": [],
   "source": [
    "df_train = df_train.iloc[:6000]"
   ]
  },
  {
   "cell_type": "code",
   "execution_count": 7,
   "metadata": {},
   "outputs": [],
   "source": [
    "df_test = df_test.iloc[:4000]"
   ]
  },
  {
   "cell_type": "markdown",
   "metadata": {},
   "source": [
    "#### Train SVM Model: Linear kernel"
   ]
  },
  {
   "cell_type": "code",
   "execution_count": 8,
   "metadata": {},
   "outputs": [
    {
     "name": "stdout",
     "output_type": "stream",
     "text": [
      "Best parameter (C): 0.1\n",
      "Best cross-validation score: 0.8203333333333334\n",
      "              precision    recall  f1-score   support\n",
      "\n",
      "           0       0.69      0.77      0.73       396\n",
      "           1       0.97      0.98      0.98       383\n",
      "           2       0.64      0.73      0.68       388\n",
      "           3       0.84      0.83      0.84       412\n",
      "           4       0.75      0.67      0.71       403\n",
      "           5       0.91      0.88      0.89       404\n",
      "           6       0.58      0.51      0.55       425\n",
      "           7       0.86      0.88      0.87       370\n",
      "           8       0.94      0.92      0.93       414\n",
      "           9       0.91      0.92      0.92       405\n",
      "\n",
      "    accuracy                           0.81      4000\n",
      "   macro avg       0.81      0.81      0.81      4000\n",
      "weighted avg       0.81      0.81      0.81      4000\n",
      "\n"
     ]
    }
   ],
   "source": [
    "from sklearn.svm import SVC\n",
    "from sklearn.model_selection import GridSearchCV\n",
    "from sklearn.metrics import classification_report\n",
    "\n",
    "# Prepare the data\n",
    "X_train = df_train.drop('label', axis=1)\n",
    "y_train = df_train['label']\n",
    "X_test = df_test.drop('label', axis=1)\n",
    "y_test = df_test['label']\n",
    "\n",
    "# Define the parameter grid\n",
    "param_grid = {'C': [0.1, 1, 10, 100, 1000]}\n",
    "\n",
    "# Create a SVM model with linear kernel\n",
    "svc = SVC(kernel='linear')\n",
    "\n",
    "# Use GridSearchCV to find the best value for C\n",
    "grid_search = GridSearchCV(svc, param_grid, cv=5)\n",
    "grid_search.fit(X_train, y_train)\n",
    "\n",
    "# Print the best parameter and the corresponding score\n",
    "print(f\"Best parameter (C): {grid_search.best_params_['C']}\")\n",
    "print(f\"Best cross-validation score: {grid_search.best_score_}\")\n",
    "\n",
    "# Evaluate the model on the test set\n",
    "y_pred = grid_search.predict(X_test)\n",
    "print(classification_report(y_test, y_pred))"
   ]
  },
  {
   "cell_type": "markdown",
   "metadata": {},
   "source": [
    "#### Train SVM with polynomial kernel. Use GridSearch to find the best value for the polynomial degree and C."
   ]
  },
  {
   "cell_type": "code",
   "execution_count": 9,
   "metadata": {},
   "outputs": [
    {
     "name": "stdout",
     "output_type": "stream",
     "text": [
      "Best parameters (C, degree): {'C': 10, 'degree': 2}\n",
      "Best cross-validation score: 0.8465\n",
      "              precision    recall  f1-score   support\n",
      "\n",
      "           0       0.73      0.79      0.76       396\n",
      "           1       0.97      0.97      0.97       383\n",
      "           2       0.75      0.72      0.74       388\n",
      "           3       0.86      0.85      0.86       412\n",
      "           4       0.77      0.76      0.76       403\n",
      "           5       0.92      0.91      0.92       404\n",
      "           6       0.65      0.63      0.64       425\n",
      "           7       0.88      0.92      0.90       370\n",
      "           8       0.95      0.94      0.94       414\n",
      "           9       0.92      0.92      0.92       405\n",
      "\n",
      "    accuracy                           0.84      4000\n",
      "   macro avg       0.84      0.84      0.84      4000\n",
      "weighted avg       0.84      0.84      0.84      4000\n",
      "\n"
     ]
    }
   ],
   "source": [
    "# Define the parameter grid for polynomial kernel\n",
    "param_grid_poly = {\n",
    "    'C': [0.1, 1, 10, 100, 1000],\n",
    "    'degree': [2, 3, 4, 5]\n",
    "}\n",
    "\n",
    "# Create a SVM model with polynomial kernel\n",
    "svc_poly = SVC(kernel='poly')\n",
    "\n",
    "# Use GridSearchCV to find the best value for C and degree\n",
    "grid_search_poly = GridSearchCV(svc_poly, param_grid_poly, cv=5)\n",
    "grid_search_poly.fit(X_train, y_train)\n",
    "\n",
    "# Print the best parameters and the corresponding score\n",
    "print(f\"Best parameters (C, degree): {grid_search_poly.best_params_}\")\n",
    "print(f\"Best cross-validation score: {grid_search_poly.best_score_}\")\n",
    "\n",
    "# Evaluate the model on the test set\n",
    "y_pred_poly = grid_search_poly.predict(X_test)\n",
    "print(classification_report(y_test, y_pred_poly))"
   ]
  },
  {
   "cell_type": "markdown",
   "metadata": {},
   "source": [
    "#### Train SVM with RBF kernel and find the best values for gamma and C."
   ]
  },
  {
   "cell_type": "code",
   "execution_count": 10,
   "metadata": {},
   "outputs": [
    {
     "name": "stdout",
     "output_type": "stream",
     "text": [
      "Best parameters (C, gamma): {'C': 10, 'gamma': 1e-05}\n",
      "Best cross-validation score: 0.17166666666666666\n",
      "              precision    recall  f1-score   support\n",
      "\n",
      "           0       0.11      0.99      0.19       396\n",
      "           1       1.00      0.37      0.54       383\n",
      "           2       1.00      0.01      0.02       388\n",
      "           3       1.00      0.07      0.12       412\n",
      "           4       0.00      0.00      0.00       403\n",
      "           5       1.00      0.01      0.02       404\n",
      "           6       0.91      0.12      0.21       425\n",
      "           7       1.00      0.22      0.37       370\n",
      "           8       0.00      0.00      0.00       414\n",
      "           9       1.00      0.00      0.00       405\n",
      "\n",
      "    accuracy                           0.18      4000\n",
      "   macro avg       0.70      0.18      0.15      4000\n",
      "weighted avg       0.70      0.18      0.14      4000\n",
      "\n"
     ]
    },
    {
     "name": "stderr",
     "output_type": "stream",
     "text": [
      "c:\\Users\\laava\\anaconda3\\Lib\\site-packages\\sklearn\\metrics\\_classification.py:1469: UndefinedMetricWarning: Precision and F-score are ill-defined and being set to 0.0 in labels with no predicted samples. Use `zero_division` parameter to control this behavior.\n",
      "  _warn_prf(average, modifier, msg_start, len(result))\n",
      "c:\\Users\\laava\\anaconda3\\Lib\\site-packages\\sklearn\\metrics\\_classification.py:1469: UndefinedMetricWarning: Precision and F-score are ill-defined and being set to 0.0 in labels with no predicted samples. Use `zero_division` parameter to control this behavior.\n",
      "  _warn_prf(average, modifier, msg_start, len(result))\n",
      "c:\\Users\\laava\\anaconda3\\Lib\\site-packages\\sklearn\\metrics\\_classification.py:1469: UndefinedMetricWarning: Precision and F-score are ill-defined and being set to 0.0 in labels with no predicted samples. Use `zero_division` parameter to control this behavior.\n",
      "  _warn_prf(average, modifier, msg_start, len(result))\n"
     ]
    }
   ],
   "source": [
    "# Define the parameter grid for RBF kernel\n",
    "param_grid_rbf = {\n",
    "    'C': [0.1, 1, 10, 100, 1000],\n",
    "    'gamma': [1e-3, 1e-4, 1e-5]\n",
    "}\n",
    "\n",
    "# Create a SVM model with RBF kernel\n",
    "svc_rbf = SVC(kernel='rbf')\n",
    "\n",
    "# Use GridSearchCV to find the best value for C and gamma\n",
    "grid_search_rbf = GridSearchCV(svc_rbf, param_grid_rbf, cv=5)\n",
    "grid_search_rbf.fit(X_train, y_train)\n",
    "\n",
    "# Print the best parameters and the corresponding score\n",
    "print(f\"Best parameters (C, gamma): {grid_search_rbf.best_params_}\")\n",
    "print(f\"Best cross-validation score: {grid_search_rbf.best_score_}\")\n",
    "\n",
    "# Evaluate the model on the test set\n",
    "y_pred_rbf = grid_search_rbf.predict(X_test)\n",
    "print(classification_report(y_test, y_pred_rbf))"
   ]
  }
 ],
 "metadata": {
  "kernelspec": {
   "display_name": "base",
   "language": "python",
   "name": "python3"
  },
  "language_info": {
   "codemirror_mode": {
    "name": "ipython",
    "version": 3
   },
   "file_extension": ".py",
   "mimetype": "text/x-python",
   "name": "python",
   "nbconvert_exporter": "python",
   "pygments_lexer": "ipython3",
   "version": "3.11.5"
  }
 },
 "nbformat": 4,
 "nbformat_minor": 2
}
