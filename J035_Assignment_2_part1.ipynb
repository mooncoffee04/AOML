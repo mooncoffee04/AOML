{
 "cells": [
  {
   "cell_type": "markdown",
   "metadata": {},
   "source": [
    "### part 1: Stellar Classification"
   ]
  },
  {
   "cell_type": "markdown",
   "metadata": {},
   "source": [
    "Use stratified split\n",
    "\n",
    "Train a classification model\n",
    "\n",
    "Print the classification report and write your findings\n",
    "\n",
    "Create a confusion matrix, plot it as a heatmap and write your findings"
   ]
  },
  {
   "cell_type": "code",
   "execution_count": 17,
   "metadata": {},
   "outputs": [],
   "source": [
    "import numpy as np\n",
    "import pandas as pd"
   ]
  },
  {
   "cell_type": "code",
   "execution_count": 18,
   "metadata": {},
   "outputs": [
    {
     "name": "stderr",
     "output_type": "stream",
     "text": [
      "C:\\Users\\laava\\AppData\\Local\\Temp\\ipykernel_22848\\2952131643.py:1: DtypeWarning: Columns (1,8) have mixed types. Specify dtype option on import or set low_memory=False.\n",
      "  df = pd.read_csv(r'C:\\Users\\laava\\Desktop\\sem 6\\AOML\\StarClassificationDataset.csv')\n"
     ]
    },
    {
     "data": {
      "text/html": [
       "<div>\n",
       "<style scoped>\n",
       "    .dataframe tbody tr th:only-of-type {\n",
       "        vertical-align: middle;\n",
       "    }\n",
       "\n",
       "    .dataframe tbody tr th {\n",
       "        vertical-align: top;\n",
       "    }\n",
       "\n",
       "    .dataframe thead th {\n",
       "        text-align: right;\n",
       "    }\n",
       "</style>\n",
       "<table border=\"1\" class=\"dataframe\">\n",
       "  <thead>\n",
       "    <tr style=\"text-align: right;\">\n",
       "      <th></th>\n",
       "      <th>object_ID</th>\n",
       "      <th>alpha</th>\n",
       "      <th>delta</th>\n",
       "      <th>UV_filter</th>\n",
       "      <th>green_filter</th>\n",
       "      <th>red_filter</th>\n",
       "      <th>near_IR_filter</th>\n",
       "      <th>IR_filter</th>\n",
       "      <th>run_ID</th>\n",
       "      <th>rerun_ID</th>\n",
       "      <th>cam_col</th>\n",
       "      <th>field_ID</th>\n",
       "      <th>spec_obj_ID</th>\n",
       "      <th>red_shift</th>\n",
       "      <th>plate_ID</th>\n",
       "      <th>MJD</th>\n",
       "      <th>fiber_ID</th>\n",
       "      <th>class</th>\n",
       "    </tr>\n",
       "  </thead>\n",
       "  <tbody>\n",
       "    <tr>\n",
       "      <th>0</th>\n",
       "      <td>1.240000e+18</td>\n",
       "      <td>135.6891066</td>\n",
       "      <td>32.494632</td>\n",
       "      <td>23.87882</td>\n",
       "      <td>22.27530</td>\n",
       "      <td>20.39501</td>\n",
       "      <td>19.16573</td>\n",
       "      <td>18.79371</td>\n",
       "      <td>3606</td>\n",
       "      <td>301</td>\n",
       "      <td>2</td>\n",
       "      <td>79</td>\n",
       "      <td>6.540000e+18</td>\n",
       "      <td>0.634794</td>\n",
       "      <td>5812</td>\n",
       "      <td>56354</td>\n",
       "      <td>171</td>\n",
       "      <td>GALAXY</td>\n",
       "    </tr>\n",
       "    <tr>\n",
       "      <th>1</th>\n",
       "      <td>1.240000e+18</td>\n",
       "      <td>144.8261006</td>\n",
       "      <td>31.274185</td>\n",
       "      <td>24.77759</td>\n",
       "      <td>22.83188</td>\n",
       "      <td>22.58444</td>\n",
       "      <td>21.16812</td>\n",
       "      <td>21.61427</td>\n",
       "      <td>4518</td>\n",
       "      <td>301</td>\n",
       "      <td>5</td>\n",
       "      <td>119</td>\n",
       "      <td>1.180000e+19</td>\n",
       "      <td>0.779136</td>\n",
       "      <td>10445</td>\n",
       "      <td>58158</td>\n",
       "      <td>427</td>\n",
       "      <td>GALAXY</td>\n",
       "    </tr>\n",
       "  </tbody>\n",
       "</table>\n",
       "</div>"
      ],
      "text/plain": [
       "      object_ID        alpha      delta  UV_filter  green_filter  red_filter  \\\n",
       "0  1.240000e+18  135.6891066  32.494632   23.87882      22.27530    20.39501   \n",
       "1  1.240000e+18  144.8261006  31.274185   24.77759      22.83188    22.58444   \n",
       "\n",
       "   near_IR_filter  IR_filter run_ID  rerun_ID  cam_col  field_ID  \\\n",
       "0        19.16573   18.79371   3606       301        2        79   \n",
       "1        21.16812   21.61427   4518       301        5       119   \n",
       "\n",
       "    spec_obj_ID  red_shift  plate_ID    MJD  fiber_ID   class  \n",
       "0  6.540000e+18   0.634794      5812  56354       171  GALAXY  \n",
       "1  1.180000e+19   0.779136     10445  58158       427  GALAXY  "
      ]
     },
     "execution_count": 18,
     "metadata": {},
     "output_type": "execute_result"
    }
   ],
   "source": [
    "df = pd.read_csv(r'C:\\Users\\laava\\Desktop\\sem 6\\AOML\\StarClassificationDataset.csv')\n",
    "df.head(2)"
   ]
  },
  {
   "cell_type": "code",
   "execution_count": 20,
   "metadata": {},
   "outputs": [
    {
     "name": "stdout",
     "output_type": "stream",
     "text": [
      "<class 'pandas.core.frame.DataFrame'>\n",
      "RangeIndex: 100000 entries, 0 to 99999\n",
      "Data columns (total 18 columns):\n",
      " #   Column          Non-Null Count   Dtype  \n",
      "---  ------          --------------   -----  \n",
      " 0   object_ID       100000 non-null  float64\n",
      " 1   alpha           99999 non-null   object \n",
      " 2   delta           99998 non-null   float64\n",
      " 3   UV_filter       100000 non-null  float64\n",
      " 4   green_filter    100000 non-null  float64\n",
      " 5   red_filter      100000 non-null  float64\n",
      " 6   near_IR_filter  100000 non-null  float64\n",
      " 7   IR_filter       100000 non-null  float64\n",
      " 8   run_ID          99994 non-null   object \n",
      " 9   rerun_ID        100000 non-null  int64  \n",
      " 10  cam_col         100000 non-null  int64  \n",
      " 11  field_ID        100000 non-null  int64  \n",
      " 12  spec_obj_ID     100000 non-null  float64\n",
      " 13  red_shift       100000 non-null  float64\n",
      " 14  plate_ID        100000 non-null  int64  \n",
      " 15  MJD             100000 non-null  int64  \n",
      " 16  fiber_ID        100000 non-null  int64  \n",
      " 17  class           100000 non-null  object \n",
      "dtypes: float64(9), int64(6), object(3)\n",
      "memory usage: 13.7+ MB\n",
      "None\n"
     ]
    }
   ],
   "source": [
    "df.isnull().sum()\n",
    "print(df.info())"
   ]
  },
  {
   "cell_type": "code",
   "execution_count": 21,
   "metadata": {},
   "outputs": [
    {
     "name": "stdout",
     "output_type": "stream",
     "text": [
      "<class 'pandas.core.frame.DataFrame'>\n",
      "RangeIndex: 99989 entries, 0 to 99988\n",
      "Data columns (total 18 columns):\n",
      " #   Column          Non-Null Count  Dtype  \n",
      "---  ------          --------------  -----  \n",
      " 0   object_ID       99989 non-null  float64\n",
      " 1   alpha           99989 non-null  float64\n",
      " 2   delta           99989 non-null  float64\n",
      " 3   UV_filter       99989 non-null  float64\n",
      " 4   green_filter    99989 non-null  float64\n",
      " 5   red_filter      99989 non-null  float64\n",
      " 6   near_IR_filter  99989 non-null  float64\n",
      " 7   IR_filter       99989 non-null  float64\n",
      " 8   run_ID          99989 non-null  float64\n",
      " 9   rerun_ID        99989 non-null  int64  \n",
      " 10  cam_col         99989 non-null  int64  \n",
      " 11  field_ID        99989 non-null  int64  \n",
      " 12  spec_obj_ID     99989 non-null  float64\n",
      " 13  red_shift       99989 non-null  float64\n",
      " 14  plate_ID        99989 non-null  int64  \n",
      " 15  MJD             99989 non-null  int64  \n",
      " 16  fiber_ID        99989 non-null  int64  \n",
      " 17  class           99989 non-null  object \n",
      "dtypes: float64(11), int64(6), object(1)\n",
      "memory usage: 13.7+ MB\n",
      "None\n"
     ]
    }
   ],
   "source": [
    "# Step 1: Replace empty strings or spaces with NaN\n",
    "df.replace(r'^\\s*$', np.nan, regex=True, inplace=True)\n",
    "\n",
    "# Step 2: Convert problematic columns to numeric (if needed)\n",
    "df['alpha'] = pd.to_numeric(df['alpha'], errors='coerce')\n",
    "df['run_ID'] = pd.to_numeric(df['run_ID'], errors='coerce')\n",
    "\n",
    "# Step 3: Drop rows with NaN\n",
    "df.dropna(inplace=True)\n",
    "\n",
    "# Step 4: Reset index after dropping rows\n",
    "df.reset_index(drop=True, inplace=True)\n",
    "\n",
    "# Check the result\n",
    "print(df.info())"
   ]
  },
  {
   "cell_type": "code",
   "execution_count": 22,
   "metadata": {},
   "outputs": [
    {
     "name": "stdout",
     "output_type": "stream",
     "text": [
      "class\n",
      "GALAXY    0.594417\n",
      "STAR      0.215962\n",
      "QSO       0.189621\n",
      "Name: proportion, dtype: float64\n",
      "class\n",
      "GALAXY    0.594409\n",
      "STAR      0.215972\n",
      "QSO       0.189619\n",
      "Name: proportion, dtype: float64\n"
     ]
    }
   ],
   "source": [
    "from sklearn.model_selection import train_test_split\n",
    "\n",
    "# Define the features and target variable\n",
    "X = df.drop(columns=['class'])\n",
    "y = df['class']\n",
    "\n",
    "# Perform stratified split\n",
    "X_train, X_test, y_train, y_test = train_test_split(X, y, test_size=0.2, stratify=y, random_state=42)\n",
    "\n",
    "# Check the distribution of classes in the training and testing sets\n",
    "print(y_train.value_counts(normalize=True))\n",
    "print(y_test.value_counts(normalize=True))"
   ]
  },
  {
   "cell_type": "code",
   "execution_count": 23,
   "metadata": {
    "vscode": {
     "languageId": "ruby"
    }
   },
   "outputs": [
    {
     "name": "stdout",
     "output_type": "stream",
     "text": [
      "Training Score: 0.9999874985935918\n"
     ]
    }
   ],
   "source": [
    "from sklearn.ensemble import RandomForestClassifier\n",
    "\n",
    "# Initialize the classifier\n",
    "clf = RandomForestClassifier(random_state=42)\n",
    "\n",
    "# Train the classifier\n",
    "clf.fit(X_train, y_train)\n",
    "\n",
    "# Check the training score\n",
    "train_score = clf.score(X_train, y_train)\n",
    "print(f'Training Score: {train_score}')"
   ]
  },
  {
   "cell_type": "code",
   "execution_count": 24,
   "metadata": {},
   "outputs": [
    {
     "name": "stdout",
     "output_type": "stream",
     "text": [
      "              precision    recall  f1-score   support\n",
      "\n",
      "      GALAXY       0.98      0.98      0.98     11887\n",
      "         QSO       0.96      0.93      0.95      3792\n",
      "        STAR       0.99      1.00      0.99      4319\n",
      "\n",
      "    accuracy                           0.98     19998\n",
      "   macro avg       0.98      0.97      0.97     19998\n",
      "weighted avg       0.98      0.98      0.98     19998\n",
      "\n"
     ]
    }
   ],
   "source": [
    "from sklearn.metrics import classification_report\n",
    "\n",
    "# Predict the labels for the test set\n",
    "y_pred = clf.predict(X_test)\n",
    "\n",
    "# Generate the classification report\n",
    "report = classification_report(y_test, y_pred)\n",
    "print(report)"
   ]
  },
  {
   "cell_type": "code",
   "execution_count": 25,
   "metadata": {},
   "outputs": [],
   "source": [
    "#QSO recall is a bit less"
   ]
  },
  {
   "cell_type": "code",
   "execution_count": 26,
   "metadata": {},
   "outputs": [
    {
     "data": {
      "image/png": "[encoded data removed]",
      "text/plain": [
       "<Figure size 1000x700 with 2 Axes>"
      ]
     },
     "metadata": {},
     "output_type": "display_data"
    }
   ],
   "source": [
    "import seaborn as sns\n",
    "from sklearn.metrics import confusion_matrix\n",
    "\n",
    "import matplotlib.pyplot as plt\n",
    "\n",
    "# Generate the confusion matrix\n",
    "cm = confusion_matrix(y_test, y_pred, labels=clf.classes_)\n",
    "\n",
    "# Plot the confusion matrix as a heatmap\n",
    "plt.figure(figsize=(10, 7))\n",
    "sns.heatmap(cm, annot=True, fmt='d', cmap='Blues', xticklabels=clf.classes_, yticklabels=clf.classes_)\n",
    "plt.xlabel('Predicted')\n",
    "plt.ylabel('Actual')\n",
    "plt.title('Confusion Matrix')\n",
    "plt.show()"
   ]
  },
  {
   "cell_type": "markdown",
   "metadata": {},
   "source": [
    "The confusion matrix shows that the classifier performs very well with high precision and recall for all classes.\n",
    "\n",
    "However, the recall for the QSO class is slightly lower compared to the other classes, indicating that some QSOs are misclassified."
   ]
  },
  {
   "cell_type": "code",
   "execution_count": 27,
   "metadata": {},
   "outputs": [
    {
     "name": "stdout",
     "output_type": "stream",
     "text": [
      "Fitting 3 folds for each of 108 candidates, totalling 324 fits\n",
      "              precision    recall  f1-score   support\n",
      "\n",
      "      GALAXY       0.98      0.99      0.98     11887\n",
      "         QSO       0.96      0.93      0.95      3792\n",
      "        STAR       0.99      1.00      0.99      4319\n",
      "\n",
      "    accuracy                           0.98     19998\n",
      "   macro avg       0.98      0.97      0.97     19998\n",
      "weighted avg       0.98      0.98      0.98     19998\n",
      "\n"
     ]
    }
   ],
   "source": [
    "from sklearn.model_selection import GridSearchCV\n",
    "\n",
    "# Define the parameter grid\n",
    "param_grid = {\n",
    "    'n_estimators': [100, 200, 300],\n",
    "    'max_depth': [None, 10, 20, 30],\n",
    "    'min_samples_split': [2, 5, 10],\n",
    "    'min_samples_leaf': [1, 2, 4]\n",
    "}\n",
    "\n",
    "# Initialize the GridSearchCV object\n",
    "grid_search = GridSearchCV(estimator=clf, param_grid=param_grid, cv=3, n_jobs=-1, verbose=2)\n",
    "\n",
    "# Fit the grid search to the data\n",
    "grid_search.fit(X_train, y_train)\n",
    "\n",
    "# Get the best estimator\n",
    "best_clf = grid_search.best_estimator_\n",
    "\n",
    "# Predict the labels for the test set using the best estimator\n",
    "y_pred_best = best_clf.predict(X_test)\n",
    "\n",
    "# Generate the classification report\n",
    "report_best = classification_report(y_test, y_pred_best)\n",
    "print(report_best)"
   ]
  }
 ],
 "metadata": {
  "kernelspec": {
   "display_name": "base",
   "language": "python",
   "name": "python3"
  },
  "language_info": {
   "codemirror_mode": {
    "name": "ipython",
    "version": 3
   },
   "file_extension": ".py",
   "mimetype": "text/x-python",
   "name": "python",
   "nbconvert_exporter": "python",
   "pygments_lexer": "ipython3",
   "version": "3.11.5"
  }
 },
 "nbformat": 4,
 "nbformat_minor": 2
}
